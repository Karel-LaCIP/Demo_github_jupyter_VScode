{
 "cells": [
  {
   "cell_type": "markdown",
   "id": "848ab5b0-a5f1-4f73-a5ba-81ced5e83db6",
   "metadata": {},
   "source": [
    "# Two Sum Problem \n",
    "## Task: Create a function that\n",
    "• takes in two parameters:<br>\n",
    "• 1. A list of integers called nums        \n",
    "• 2. An integer called target         \n",
    "• returns True, if any two distinct values in nums \n",
    "    add up to target, otherwise it returns False \n",
    "\n",
    "The session of July 11 led by Alex was covering this and presented two options to solve the algorithm:\n",
    "\n",
    "1. A loop through all the elements and a second (nested) loop through the all the ones not yet tested.\n",
    "2. A single loop that assumes a sorted array and moves either the right or left inward. This was colled the converging method.\n",
    "\n",
    "In computer science, the question is often asked which algorithm may be best for a given solution. Memory usage may need to be considered, but speed is often the most important thing. This becomes very important as the lists to evaluate grow in size. The computer scientists often talk about the big-O notation. This is a lower bound for how much it slows down as n grows. \n",
    "\n",
    "Without getting into details, we want to plot the time it takes to sort through some long lists. Here the two different approaches:"
   ]
  },
  {
   "cell_type": "code",
   "execution_count": null,
   "id": "7ce29190-62a0-48cf-b8c3-fbd9870af4ef",
   "metadata": {},
   "outputs": [],
   "source": [
    "# import modules we use for evaluation\n",
    "import random, time\n",
    "import matplotlib.pyplot as plt\n",
    "\n",
    "# define the two functions\n",
    "def two_sum_converging(sorted_list, target):\n",
    "    \"\"\"\n",
    "    input must be sorted\n",
    "    approach solution from both ends\n",
    "    \"\"\"\n",
    "    if len(sorted_list) == 0:\n",
    "        return False\n",
    "    left, right = 0, len(sorted_list) - 1\n",
    "    while left < right:\n",
    "        total = sorted_list[left] + sorted_list[right]\n",
    "        if total == target:\n",
    "            # quits loop as soon as match found\n",
    "            return True\n",
    "        elif total < target:\n",
    "            left += 1\n",
    "        else:\n",
    "            right -= 1\n",
    "    # only get here if no solution\n",
    "    return False\n",
    "\n",
    "def two_sum_nested_loop(nums, target):\n",
    "    \"\"\"\n",
    "    Nested loop solution\n",
    "    \"\"\"\n",
    "    for i in range(len(nums)):\n",
    "        for j in range(i+1, len(nums)):\n",
    "            total=nums[i] + nums[j]\n",
    "            if total == target:\n",
    "                # quits loops as soon as match found\n",
    "                return True\n",
    "    # we will not get here unless no match found\n",
    "    return False\n"
   ]
  },
  {
   "cell_type": "markdown",
   "id": "da7ad911-dee1-4040-bd0a-883032cea9f8",
   "metadata": {},
   "source": [
    "To test this, we need to create some example lists to test. The problem set gave us the following, and we can make sure the algorithm works:"
   ]
  },
  {
   "cell_type": "code",
   "execution_count": null,
   "id": "2805bccd-3c43-4fe1-a334-bd1416094cb4",
   "metadata": {},
   "outputs": [],
   "source": [
    "print(\"two_sum_converging\")\n",
    "print(\"expect True: \",two_sum_converging([2, 7, 11, 15], 9))\n",
    "print(\"expect False: \",two_sum_converging([1, 2, 3, 4], 8))      \n",
    "print(\"expect True: \",two_sum_converging([5, 5], 10))  \n",
    "# Edge cases\n",
    "print(\"expect False: \",two_sum_converging([4], 8))\n",
    "print(\"expect False: \",two_sum_converging([20], 20))\n",
    "print(\"expect False: \",two_sum_converging([], 10))  \n",
    "print()\n",
    "print(\"two_sum_nested_loop\")\n",
    "print(\"expect True: \",two_sum_nested_loop([2, 7, 11, 15], 9))  \n",
    "print(\"expect False: \",two_sum_nested_loop([1, 2, 3, 4], 8))\n",
    "print(\"expect True: \",two_sum_nested_loop([5, 5], 10))      \n",
    "# Edge cases\n",
    "print(\"expect False: \",two_sum_nested_loop([4], 8))      \n",
    "print(\"expect False: \",two_sum_nested_loop([20], 20))\n",
    "print(\"expect False: \",two_sum_nested_loop([], 10)) "
   ]
  },
  {
   "cell_type": "markdown",
   "id": "feff35d0-2d17-4993-924b-0826a60cd88d",
   "metadata": {},
   "source": [
    "We have confirmed the functions work for all the tests provided. This tells us nothing however about the speed of execution.\n",
    "\n",
    "To do that, we define test lists that represent the *worst case* scenario. In this case, the worst list is one that is unsorted and does not contain a matched pair. All loops have to execute the full number of iterations.\n",
    "\n",
    "If a list contains only even numbers, no two will add to an odd number, so we can test for target = 1."
   ]
  },
  {
   "cell_type": "code",
   "execution_count": null,
   "id": "f9ec41f8-b5ca-4519-9197-9b2c65d96a48",
   "metadata": {},
   "outputs": [],
   "source": [
    "def make_even_list(n):\n",
    "    \"\"\"\n",
    "    returns integer list of length n\n",
    "    with all elements even\n",
    "    \"\"\"\n",
    "    my_list = [2*i for i in range(n)]\n",
    "    # ensure that the sorting has to do some work\n",
    "    random.shuffle(my_list)\n",
    "    return my_list"
   ]
  },
  {
   "cell_type": "markdown",
   "id": "991be580-d03e-46ab-b0e7-20a8a116cac4",
   "metadata": {},
   "source": [
    "To test the runtime of the function call, we use a function that gives us a timestamp in seconds for CPU cycles."
   ]
  },
  {
   "cell_type": "code",
   "execution_count": null,
   "id": "a6b6402f-af33-4e8b-94a1-369ef24d8d43",
   "metadata": {},
   "outputs": [],
   "source": [
    "n_array= [10,100,1000,10000,20000,40000,80000,130000,250000,500000,1000000]\n",
    "\n",
    "for n in n_array:\n",
    "    my_list = make_even_list(n)\n",
    "    t0 = time.perf_counter()\n",
    "    sorted_list = sorted(my_list) \n",
    "    t1 = time.perf_counter()\n",
    "    two_sum_converging(sorted_list,1)\n",
    "    tend = time.perf_counter()\n",
    "    sort_string = str(\"%3f1 s\"%(t1-t0))\n",
    "    converge_string= str(\"%3f1 s\"%(tend-t1))\n",
    "\n",
    "    if n<30000:\n",
    "        loop0 = time.perf_counter()\n",
    "        two_sum_nested_loop(my_list,1)\n",
    "        loopend = time.perf_counter()\n",
    "        nested_string = str(\"%3f1 s\"% (loopend-loop0))\n",
    "    else: \n",
    "        nested_string = \"N/A\"\n",
    "        \n",
    "    print(f\"n={n}: t_sort={sort_string}, converge = {converge_string}, nested = {nested_string}\")\n",
    "    \n"
   ]
  },
  {
   "cell_type": "code",
   "execution_count": null,
   "id": "04e90665-315b-437e-9851-60248bf4d14d",
   "metadata": {},
   "outputs": [],
   "source": []
  }
 ],
 "metadata": {
  "kernelspec": {
   "display_name": "Python [conda env:base] *",
   "language": "python",
   "name": "conda-base-py"
  },
  "language_info": {
   "codemirror_mode": {
    "name": "ipython",
    "version": 3
   },
   "file_extension": ".py",
   "mimetype": "text/x-python",
   "name": "python",
   "nbconvert_exporter": "python",
   "pygments_lexer": "ipython3",
   "version": "3.13.5"
  }
 },
 "nbformat": 4,
 "nbformat_minor": 5
}
